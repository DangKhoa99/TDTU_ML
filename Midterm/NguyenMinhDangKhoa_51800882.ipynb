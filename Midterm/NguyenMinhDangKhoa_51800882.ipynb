{
 "cells": [
  {
   "cell_type": "markdown",
   "metadata": {},
   "source": [
    "DỰ ÁN GIỮA KỲ - HỌC MÁY - NHÓM 19 - GV: LÊ ANH CƯỜNG\n",
    "\n",
    "HỌ TÊN: Nguyễn Minh Đăng Khoa - MSSV: 51800882\n",
    "\n",
    "TÊN DỮ LIỆU: Post-Operative Patient Data Set\n",
    "\n",
    "LINK DỮ LIỆU: https://archive.ics.uci.edu/ml/datasets/Post-Operative+Patient"
   ]
  },
  {
   "cell_type": "code",
   "execution_count": 1,
   "metadata": {
    "scrolled": true
   },
   "outputs": [],
   "source": [
    "import pandas as pd\n",
    "import numpy as np\n",
    "import matplotlib.pyplot as plt"
   ]
  },
  {
   "cell_type": "code",
   "execution_count": 2,
   "metadata": {
    "scrolled": true
   },
   "outputs": [],
   "source": [
    "names = ('L-CORE', 'L-SURF', 'L-02', 'L-BP', 'SURF-STBL', 'CORE-STBL', 'BP-STBL', 'COMFORT', 'decision ADM-DECS')"
   ]
  },
  {
   "cell_type": "code",
   "execution_count": 3,
   "metadata": {
    "scrolled": true
   },
   "outputs": [
    {
     "name": "stdout",
     "output_type": "stream",
     "text": [
      "(90, 9)\n",
      "  L-CORE L-SURF       L-02  L-BP SURF-STBL CORE-STBL     BP-STBL COMFORT  \\\n",
      "0    mid    low  excellent   mid    stable    stable      stable      15   \n",
      "1    mid   high  excellent  high    stable    stable      stable      10   \n",
      "2   high    low  excellent  high    stable    stable  mod-stable      10   \n",
      "3    mid    low       good  high    stable  unstable  mod-stable      15   \n",
      "4    mid    mid  excellent  high    stable    stable      stable      10   \n",
      "\n",
      "  decision ADM-DECS  \n",
      "0                 A  \n",
      "1                 S  \n",
      "2                 A  \n",
      "3                 A  \n",
      "4                 A  \n"
     ]
    }
   ],
   "source": [
    "df = pd.read_csv(\"post-operative.data\", names= names)\n",
    "print(df.shape)\n",
    "print(df.head(5))"
   ]
  },
  {
   "cell_type": "code",
   "execution_count": 4,
   "metadata": {},
   "outputs": [],
   "source": [
    "# df.info() # introduce data"
   ]
  },
  {
   "cell_type": "markdown",
   "metadata": {},
   "source": [
    "### 1/ Mô tả dữ liệu, vẽ đồ thị về dữ liệu"
   ]
  },
  {
   "cell_type": "markdown",
   "metadata": {},
   "source": [
    "1/ Title: Postoperative Patient Data\n",
    "\n",
    "2/ Source Information:\n",
    "\n",
    "   -- Creators: Sharon Summers, School of Nursing, University of Kansas\n",
    "                Medical Center, Kansas City, KS 66160\n",
    "                Linda Woolery, School of Nursing, University of Missouri,\n",
    "                Columbia, MO 65211\n",
    "                \n",
    "   -- Donor:    Jerzy W. Grzymala-Busse (jerzy@cs.ukans.edu) (913)864-4488\n",
    "   \n",
    "   -- Date:     June 1993\n",
    "\n",
    "3/ Past Usage:\n",
    "\n",
    "   -- A. Budihardjo, J. Grzymala-Busse, L. Woolery (1991). Program LERS_LB 2.5\n",
    "      as a tool for knowledge acquisition in nursing, Proceedings of the 4th\n",
    "      Int. Conference on Industrial & Engineering Applications of AI & Expert\n",
    "      Systems, pp. 735-740.\n",
    "\n",
    "   -- L. Woolery, J. Grzymala-Busse, S. Summers, A. Budihardjo (1991). The use\n",
    "      of machine learning program LERS_LB 2.5 in knowledge acquisition for \n",
    "      expert system development in nursing. Computers in Nursing 9, pp. 227-234.\n",
    "\n",
    "4/ Relevant Information:\n",
    "      The classification task of this database is to determine where\n",
    "      patients in a postoperative recovery area should be sent to next.  \n",
    "      Because hypothermia is a significant concern after surgery\n",
    "      (Woolery, L. et. al. 1991), the attributes correspond roughly to body \n",
    "      temperature measurements.\n",
    "\n",
    "      Results:\n",
    "      -- LERS (LEM2): 48% accuracy\n",
    "\n",
    "5/ Number of Instances: 90\n",
    "\n",
    "6/ Number of Attributes: 9 including the decision (class attribute)\n",
    "\n",
    "7/ Attribute Information:\n",
    "\n",
    "     1. L-CORE (patient's internal temperature in C):\n",
    "              high (> 37), mid (>= 36 and <= 37), low (< 36)\n",
    "              \n",
    "     2. L-SURF (patient's surface temperature in C):\n",
    "              high (> 36.5), mid (>= 36.5 and <= 35), low (< 35)\n",
    "              \n",
    "     3. L-O2 (oxygen saturation in %):\n",
    "              excellent (>= 98), good (>= 90 and < 98),\n",
    "              fair (>= 80 and < 90), poor (< 80)\n",
    "              \n",
    "     4. L-BP (last measurement of blood pressure):\n",
    "              high (> 130/90), mid (<= 130/90 and >= 90/70), low (< 90/70)\n",
    "              \n",
    "     5. SURF-STBL (stability of patient's surface temperature):\n",
    "              stable, mod-stable, unstable\n",
    "              \n",
    "     6. CORE-STBL (stability of patient's core temperature)\n",
    "              stable, mod-stable, unstable\n",
    "              \n",
    "     7. BP-STBL (stability of patient's blood pressure)\n",
    "              stable, mod-stable, unstable\n",
    "              \n",
    "     8. COMFORT (patient's perceived comfort at discharge, measured as\n",
    "              an integer between 0 and 20)\n",
    "              \n",
    "     9. decision ADM-DECS (discharge decision):\n",
    "              I (patient sent to Intensive Care Unit),\n",
    "              S (patient prepared to go home),\n",
    "              A (patient sent to general hospital floor)\n",
    "\n",
    "8/ Missing Attribute Values:\n",
    "\n",
    "     Attribute 8 has 3 missing values\n",
    "\n",
    "9/ Class Distribution:\n",
    "\n",
    "     I (2)\n",
    "     \n",
    "     S (24)\n",
    "     \n",
    "     A (64)\n"
   ]
  },
  {
   "cell_type": "code",
   "execution_count": 5,
   "metadata": {
    "scrolled": false
   },
   "outputs": [
    {
     "data": {
      "image/png": "[encoded data removed]",
      "text/plain": [
       "<Figure size 864x432 with 1 Axes>"
      ]
     },
     "metadata": {},
     "output_type": "display_data"
    },
    {
     "data": {
      "image/png": "[encoded data removed]",
      "text/plain": [
       "<Figure size 864x432 with 1 Axes>"
      ]
     },
     "metadata": {},
     "output_type": "display_data"
    },
    {
     "data": {
      "image/png": "[encoded data removed]",
      "text/plain": [
       "<Figure size 864x432 with 1 Axes>"
      ]
     },
     "metadata": {},
     "output_type": "display_data"
    },
    {
     "data": {
      "image/png": "[encoded data removed]",
      "text/plain": [
       "<Figure size 864x432 with 1 Axes>"
      ]
     },
     "metadata": {},
     "output_type": "display_data"
    },
    {
     "data": {
      "image/png": "[encoded data removed]",
      "text/plain": [
       "<Figure size 864x432 with 1 Axes>"
      ]
     },
     "metadata": {},
     "output_type": "display_data"
    },
    {
     "data": {
      "image/png": "[encoded data removed]",
      "text/plain": [
       "<Figure size 864x432 with 1 Axes>"
      ]
     },
     "metadata": {},
     "output_type": "display_data"
    },
    {
     "data": {
      "image/png": "[encoded data removed]",
      "text/plain": [
       "<Figure size 864x432 with 1 Axes>"
      ]
     },
     "metadata": {},
     "output_type": "display_data"
    },
    {
     "data": {
      "image/png": "[encoded data removed]",
      "text/plain": [
       "<Figure size 864x432 with 1 Axes>"
      ]
     },
     "metadata": {},
     "output_type": "display_data"
    },
    {
     "data": {
      "image/png": "[encoded data removed]",
      "text/plain": [
       "<Figure size 864x432 with 1 Axes>"
      ]
     },
     "metadata": {},
     "output_type": "display_data"
    }
   ],
   "source": [
    "import matplotlib.pyplot as plt\n",
    "import seaborn as sns\n",
    "\n",
    "total = float(df.shape[0])\n",
    "\n",
    "sns.set(style='darkgrid')\n",
    "for i in range(len(names)):\n",
    "    sns.set(rc={'figure.figsize':(12,6)})\n",
    "#     ax = sns.countplot(x = names[i], hue=names[i], data = df)\n",
    "    ax = sns.countplot(x = names[i], data = df)\n",
    "    \n",
    "    for p in ax.patches:\n",
    "        height = p.get_height()\n",
    "        width = p.get_width()\n",
    "        ax.text(p.get_x() + width / 2, height + 0.5, height, ha=\"center\", size=15)\n",
    "        \n",
    "#         ax.annotate(f'\\n{p.get_height()}', (p.get_x()+0.4, p.get_height()), ha='center', color='black', size=18)\n",
    "    \n",
    "    \n",
    "    plt.show()"
   ]
  },
  {
   "cell_type": "markdown",
   "metadata": {},
   "source": [
    "### 2/ Chuẩn hoá dữ liệu trước khi đưa vào mô hình, xử lý missing data nếu có"
   ]
  },
  {
   "cell_type": "code",
   "execution_count": 6,
   "metadata": {
    "scrolled": false
   },
   "outputs": [
    {
     "name": "stdout",
     "output_type": "stream",
     "text": [
      "(90, 9)\n",
      "L-CORE               0\n",
      "L-SURF               0\n",
      "L-02                 0\n",
      "L-BP                 0\n",
      "SURF-STBL            0\n",
      "CORE-STBL            0\n",
      "BP-STBL              0\n",
      "COMFORT              3\n",
      "decision ADM-DECS    0\n",
      "dtype: int64\n",
      "\n",
      "(87, 9)\n",
      "L-CORE               0\n",
      "L-SURF               0\n",
      "L-02                 0\n",
      "L-BP                 0\n",
      "SURF-STBL            0\n",
      "CORE-STBL            0\n",
      "BP-STBL              0\n",
      "COMFORT              0\n",
      "decision ADM-DECS    0\n",
      "dtype: int64\n"
     ]
    }
   ],
   "source": [
    "# replace '?' values with 'nan'\n",
    "df[:] = df[:].replace(\"?\", np.nan)\n",
    "\n",
    "# count the number of nan values in each column\n",
    "print(df.shape)\n",
    "print(df.isnull().sum())\n",
    "\n",
    "# print(df.head(50))\n",
    "\n",
    "# drop rows with missing values\n",
    "df.dropna(inplace=True)\n",
    "\n",
    "print(\"\")\n",
    "\n",
    "# summarize the shape of the data with missing rows removed\n",
    "print(df.shape)\n",
    "print(df.isnull().sum())"
   ]
  },
  {
   "cell_type": "code",
   "execution_count": 7,
   "metadata": {
    "scrolled": false
   },
   "outputs": [],
   "source": [
    "# chuyển data về dạng numpy\n",
    "data = df.values[:,:-1]\n",
    "labels = df.values[:,-1]\n",
    "# print(data)\n",
    "# print(labels)"
   ]
  },
  {
   "cell_type": "code",
   "execution_count": 8,
   "metadata": {
    "scrolled": true
   },
   "outputs": [],
   "source": [
    "from sklearn.preprocessing import LabelEncoder\n",
    "\n",
    "encoder = LabelEncoder()\n",
    "for i in range(data.shape[1]):\n",
    "    data[:,i] = encoder.fit_transform(data[:,i])\n",
    "# print(data[:5])"
   ]
  },
  {
   "cell_type": "markdown",
   "metadata": {},
   "source": [
    "### 3/ Xây dựng các mô hình học máy cho bài toán Classification hoặc Regression, thử nghiệm các mô hình sau: kNN, NB, SVM\n",
    "\n",
    "### 5/ Đánh giá độ chính xác qua các độ đo precision, recall, F-score, accuracy"
   ]
  },
  {
   "cell_type": "code",
   "execution_count": 9,
   "metadata": {
    "scrolled": true
   },
   "outputs": [
    {
     "name": "stdout",
     "output_type": "stream",
     "text": [
      "Train:\n",
      "(69, 8)\n",
      "(69,)\n",
      "Test:\n",
      "(18, 8)\n",
      "(18,)\n"
     ]
    }
   ],
   "source": [
    "# chia tập train và tập test\n",
    "from sklearn.model_selection import train_test_split\n",
    "from sklearn.metrics import classification_report\n",
    "\n",
    "X_train, X_test, y_train, y_test = train_test_split(data, labels, test_size = 0.2, random_state = 42)\n",
    "print('Train:')\n",
    "print(X_train.shape)\n",
    "print(y_train.shape)\n",
    "print('Test:')\n",
    "print(X_test.shape)\n",
    "print(y_test.shape)"
   ]
  },
  {
   "cell_type": "code",
   "execution_count": 10,
   "metadata": {
    "scrolled": true
   },
   "outputs": [
    {
     "data": {
      "text/plain": [
       "MultinomialNB()"
      ]
     },
     "execution_count": 10,
     "metadata": {},
     "output_type": "execute_result"
    }
   ],
   "source": [
    "from sklearn.naive_bayes import MultinomialNB\n",
    "\n",
    "model_MultinomialNB = MultinomialNB()\n",
    "model_MultinomialNB.fit(X_train, y_train)"
   ]
  },
  {
   "cell_type": "code",
   "execution_count": 11,
   "metadata": {
    "scrolled": true
   },
   "outputs": [
    {
     "name": "stdout",
     "output_type": "stream",
     "text": [
      "Predict:\n",
      " ['A' 'A' 'A' 'A' 'A' 'A' 'A' 'A' 'A' 'A' 'A' 'A' 'A' 'A' 'A' 'A' 'A' 'A']\n",
      "Test:\n",
      " ['A' 'A' 'A' 'A' 'A' 'A' 'A' 'A' 'A' 'A' 'A' 'A' 'A' 'A' 'S' 'A' 'A' 'I']\n"
     ]
    }
   ],
   "source": [
    "y_pred_model_MultinomialNB = model_MultinomialNB.predict(X_test)\n",
    "print(\"Predict:\\n\", y_pred_model_MultinomialNB)\n",
    "print(\"Test:\\n\", y_test)"
   ]
  },
  {
   "cell_type": "code",
   "execution_count": 12,
   "metadata": {
    "scrolled": true
   },
   "outputs": [
    {
     "name": "stdout",
     "output_type": "stream",
     "text": [
      "              precision    recall  f1-score   support\n",
      "\n",
      "           A       0.89      1.00      0.94        16\n",
      "           I       0.00      0.00      0.00         1\n",
      "           S       0.00      0.00      0.00         1\n",
      "\n",
      "    accuracy                           0.89        18\n",
      "   macro avg       0.30      0.33      0.31        18\n",
      "weighted avg       0.79      0.89      0.84        18\n",
      "\n"
     ]
    }
   ],
   "source": [
    "print(classification_report(y_test, y_pred_model_MultinomialNB, zero_division=0))"
   ]
  },
  {
   "cell_type": "code",
   "execution_count": 13,
   "metadata": {
    "scrolled": true
   },
   "outputs": [
    {
     "data": {
      "text/plain": [
       "GaussianNB()"
      ]
     },
     "execution_count": 13,
     "metadata": {},
     "output_type": "execute_result"
    }
   ],
   "source": [
    "from sklearn.naive_bayes import GaussianNB\n",
    "model_GaussianNB = GaussianNB()\n",
    "model_GaussianNB.fit(X_train, y_train)"
   ]
  },
  {
   "cell_type": "code",
   "execution_count": 14,
   "metadata": {
    "scrolled": true
   },
   "outputs": [
    {
     "name": "stdout",
     "output_type": "stream",
     "text": [
      "Predict:\n",
      " ['A' 'S' 'A' 'S' 'A' 'A' 'S' 'S' 'A' 'A' 'S' 'A' 'S' 'S' 'S' 'A' 'A' 'A']\n",
      "Test:\n",
      " ['A' 'A' 'A' 'A' 'A' 'A' 'A' 'A' 'A' 'A' 'A' 'A' 'A' 'A' 'S' 'A' 'A' 'I']\n"
     ]
    }
   ],
   "source": [
    "y_pred_model_GaussianNB = model_GaussianNB.predict(X_test)\n",
    "print(\"Predict:\\n\", y_pred_model_GaussianNB)\n",
    "print(\"Test:\\n\", y_test)"
   ]
  },
  {
   "cell_type": "code",
   "execution_count": 15,
   "metadata": {
    "scrolled": true
   },
   "outputs": [
    {
     "name": "stdout",
     "output_type": "stream",
     "text": [
      "              precision    recall  f1-score   support\n",
      "\n",
      "           A       0.90      0.56      0.69        16\n",
      "           I       0.00      0.00      0.00         1\n",
      "           S       0.12      1.00      0.22         1\n",
      "\n",
      "    accuracy                           0.56        18\n",
      "   macro avg       0.34      0.52      0.30        18\n",
      "weighted avg       0.81      0.56      0.63        18\n",
      "\n"
     ]
    }
   ],
   "source": [
    "print(classification_report(y_test, y_pred_model_GaussianNB, zero_division=0))"
   ]
  },
  {
   "cell_type": "code",
   "execution_count": 16,
   "metadata": {
    "scrolled": true
   },
   "outputs": [
    {
     "data": {
      "text/plain": [
       "BernoulliNB()"
      ]
     },
     "execution_count": 16,
     "metadata": {},
     "output_type": "execute_result"
    }
   ],
   "source": [
    "from sklearn.naive_bayes import BernoulliNB\n",
    "model_BernoulliNB = BernoulliNB()\n",
    "model_BernoulliNB.fit(X_train, y_train)"
   ]
  },
  {
   "cell_type": "code",
   "execution_count": 17,
   "metadata": {
    "scrolled": true
   },
   "outputs": [
    {
     "name": "stdout",
     "output_type": "stream",
     "text": [
      "Predict:\n",
      " ['A' 'A' 'A' 'A' 'A' 'A' 'A' 'A' 'A' 'A' 'A' 'A' 'A' 'S' 'A' 'A' 'A' 'A']\n",
      "Test:\n",
      " ['A' 'A' 'A' 'A' 'A' 'A' 'A' 'A' 'A' 'A' 'A' 'A' 'A' 'A' 'S' 'A' 'A' 'I']\n"
     ]
    }
   ],
   "source": [
    "y_pred_model_BernoulliNB = model_BernoulliNB.predict(X_test)\n",
    "print(\"Predict:\\n\", y_pred_model_BernoulliNB)\n",
    "print(\"Test:\\n\", y_test)"
   ]
  },
  {
   "cell_type": "code",
   "execution_count": 18,
   "metadata": {
    "scrolled": true
   },
   "outputs": [
    {
     "name": "stdout",
     "output_type": "stream",
     "text": [
      "              precision    recall  f1-score   support\n",
      "\n",
      "           A       0.88      0.94      0.91        16\n",
      "           I       0.00      0.00      0.00         1\n",
      "           S       0.00      0.00      0.00         1\n",
      "\n",
      "    accuracy                           0.83        18\n",
      "   macro avg       0.29      0.31      0.30        18\n",
      "weighted avg       0.78      0.83      0.81        18\n",
      "\n"
     ]
    }
   ],
   "source": [
    "print(classification_report(y_test, y_pred_model_BernoulliNB, zero_division=0))"
   ]
  },
  {
   "cell_type": "code",
   "execution_count": 19,
   "metadata": {
    "scrolled": true
   },
   "outputs": [
    {
     "data": {
      "text/plain": [
       "KNeighborsClassifier(n_neighbors=4)"
      ]
     },
     "execution_count": 19,
     "metadata": {},
     "output_type": "execute_result"
    }
   ],
   "source": [
    "from sklearn.neighbors import KNeighborsClassifier\n",
    "\n",
    "model_kNN = KNeighborsClassifier(n_neighbors=4)\n",
    "model_kNN.fit(X_train, y_train)"
   ]
  },
  {
   "cell_type": "code",
   "execution_count": 20,
   "metadata": {
    "scrolled": true
   },
   "outputs": [
    {
     "name": "stdout",
     "output_type": "stream",
     "text": [
      "Predict:\n",
      " ['A' 'A' 'A' 'A' 'A' 'A' 'A' 'A' 'A' 'A' 'A' 'A' 'A' 'A' 'A' 'A' 'A' 'A']\n",
      "Test:\n",
      " ['A' 'A' 'A' 'A' 'A' 'A' 'A' 'A' 'A' 'A' 'A' 'A' 'A' 'A' 'S' 'A' 'A' 'I']\n"
     ]
    }
   ],
   "source": [
    "y_pred_model_kNN = model_kNN.predict(X_test)\n",
    "print(\"Predict:\\n\", y_pred_model_kNN)\n",
    "print(\"Test:\\n\", y_test)"
   ]
  },
  {
   "cell_type": "code",
   "execution_count": 21,
   "metadata": {
    "scrolled": true
   },
   "outputs": [
    {
     "name": "stdout",
     "output_type": "stream",
     "text": [
      "              precision    recall  f1-score   support\n",
      "\n",
      "           A       0.89      1.00      0.94        16\n",
      "           I       0.00      0.00      0.00         1\n",
      "           S       0.00      0.00      0.00         1\n",
      "\n",
      "    accuracy                           0.89        18\n",
      "   macro avg       0.30      0.33      0.31        18\n",
      "weighted avg       0.79      0.89      0.84        18\n",
      "\n"
     ]
    }
   ],
   "source": [
    "print(classification_report(y_test, y_pred_model_kNN, zero_division=0))"
   ]
  },
  {
   "cell_type": "code",
   "execution_count": 22,
   "metadata": {
    "scrolled": true
   },
   "outputs": [
    {
     "data": {
      "text/plain": [
       "SVC(C=100000.0, gamma=0.01, kernel='linear', random_state=0, tol=1e-05)"
      ]
     },
     "execution_count": 22,
     "metadata": {},
     "output_type": "execute_result"
    }
   ],
   "source": [
    "from sklearn import svm \n",
    "\n",
    "model_svm = svm.SVC(kernel='linear',gamma=0.01,random_state=0, tol=1e-5, C=100000.)\n",
    "# model = svm.LinearSVC(random_state=0, tol=1e-5)\n",
    "model_svm.fit(X_train, y_train)"
   ]
  },
  {
   "cell_type": "code",
   "execution_count": 23,
   "metadata": {
    "scrolled": true
   },
   "outputs": [
    {
     "name": "stdout",
     "output_type": "stream",
     "text": [
      "Predict:\n",
      " ['A' 'A' 'A' 'A' 'A' 'A' 'A' 'A' 'A' 'A' 'A' 'A' 'A' 'A' 'A' 'A' 'A' 'A']\n",
      "Test:\n",
      " ['A' 'A' 'A' 'A' 'A' 'A' 'A' 'A' 'A' 'A' 'A' 'A' 'A' 'A' 'S' 'A' 'A' 'I']\n"
     ]
    }
   ],
   "source": [
    "y_pred_model_svm = model_svm.predict(X_test)\n",
    "\n",
    "print(\"Predict:\\n\", y_pred_model_svm)\n",
    "print(\"Test:\\n\", y_test)"
   ]
  },
  {
   "cell_type": "code",
   "execution_count": 24,
   "metadata": {
    "scrolled": true
   },
   "outputs": [
    {
     "name": "stdout",
     "output_type": "stream",
     "text": [
      "              precision    recall  f1-score   support\n",
      "\n",
      "           A       0.89      1.00      0.94        16\n",
      "           I       0.00      0.00      0.00         1\n",
      "           S       0.00      0.00      0.00         1\n",
      "\n",
      "    accuracy                           0.89        18\n",
      "   macro avg       0.30      0.33      0.31        18\n",
      "weighted avg       0.79      0.89      0.84        18\n",
      "\n"
     ]
    }
   ],
   "source": [
    "print(classification_report(y_test, y_pred_model_svm, zero_division=0))"
   ]
  },
  {
   "cell_type": "markdown",
   "metadata": {},
   "source": [
    "### 4/ Tự bổ sung thêm 1 mô hình nào tự tìm hiểu (Decision Tree, Neural Networks, …)"
   ]
  },
  {
   "cell_type": "code",
   "execution_count": 25,
   "metadata": {},
   "outputs": [
    {
     "data": {
      "text/plain": [
       "DecisionTreeClassifier(max_depth=4)"
      ]
     },
     "execution_count": 25,
     "metadata": {},
     "output_type": "execute_result"
    }
   ],
   "source": [
    "from sklearn.tree import DecisionTreeClassifier\n",
    "\n",
    "model_decision_tree = DecisionTreeClassifier(max_depth=4)\n",
    "model_decision_tree.fit(X_train, y_train)"
   ]
  },
  {
   "cell_type": "code",
   "execution_count": 26,
   "metadata": {},
   "outputs": [],
   "source": [
    "# from sklearn import tree\n",
    "# tree.plot_tree(model_decision_tree)"
   ]
  },
  {
   "cell_type": "code",
   "execution_count": 27,
   "metadata": {},
   "outputs": [
    {
     "name": "stdout",
     "output_type": "stream",
     "text": [
      "Predict:\n",
      " ['A' 'A' 'A' 'A' 'A' 'A' 'A' 'A' 'A' 'A' 'A' 'A' 'A' 'S' 'A' 'A' 'A' 'A']\n",
      "Test:\n",
      " ['A' 'A' 'A' 'A' 'A' 'A' 'A' 'A' 'A' 'A' 'A' 'A' 'A' 'A' 'S' 'A' 'A' 'I']\n"
     ]
    }
   ],
   "source": [
    "y_pred_model_decision_tree = model_decision_tree.predict(X_test)\n",
    "\n",
    "print(\"Predict:\\n\", y_pred_model_decision_tree)\n",
    "print(\"Test:\\n\", y_test)"
   ]
  },
  {
   "cell_type": "code",
   "execution_count": 28,
   "metadata": {},
   "outputs": [
    {
     "name": "stdout",
     "output_type": "stream",
     "text": [
      "              precision    recall  f1-score   support\n",
      "\n",
      "           A       0.88      0.94      0.91        16\n",
      "           I       0.00      0.00      0.00         1\n",
      "           S       0.00      0.00      0.00         1\n",
      "\n",
      "    accuracy                           0.83        18\n",
      "   macro avg       0.29      0.31      0.30        18\n",
      "weighted avg       0.78      0.83      0.81        18\n",
      "\n"
     ]
    }
   ],
   "source": [
    "print(classification_report(y_test, y_pred_model_decision_tree, zero_division=0))"
   ]
  },
  {
   "cell_type": "code",
   "execution_count": 29,
   "metadata": {
    "scrolled": true
   },
   "outputs": [
    {
     "data": {
      "text/plain": [
       "MLPClassifier(alpha=1e-05, hidden_layer_sizes=(5, 2), random_state=1,\n",
       "              solver='lbfgs')"
      ]
     },
     "execution_count": 29,
     "metadata": {},
     "output_type": "execute_result"
    }
   ],
   "source": [
    "from sklearn.neural_network import MLPClassifier\n",
    "\n",
    "model_neural_network = MLPClassifier(solver='lbfgs', alpha=1e-5, hidden_layer_sizes=(5, 2), random_state=1)\n",
    "model_neural_network.fit(X_train, y_train)"
   ]
  },
  {
   "cell_type": "code",
   "execution_count": 30,
   "metadata": {
    "scrolled": true
   },
   "outputs": [
    {
     "name": "stdout",
     "output_type": "stream",
     "text": [
      "Predict:\n",
      " ['A' 'A' 'A' 'A' 'A' 'A' 'A' 'A' 'A' 'A' 'A' 'A' 'A' 'A' 'A' 'A' 'A' 'A']\n",
      "Test:\n",
      " ['A' 'A' 'A' 'A' 'A' 'A' 'A' 'A' 'A' 'A' 'A' 'A' 'A' 'A' 'S' 'A' 'A' 'I']\n"
     ]
    }
   ],
   "source": [
    "y_pred_model_neural_network = model_neural_network.predict(X_test)\n",
    "\n",
    "print(\"Predict:\\n\", y_pred_model_neural_network)\n",
    "print(\"Test:\\n\", y_test)"
   ]
  },
  {
   "cell_type": "code",
   "execution_count": 31,
   "metadata": {
    "scrolled": true
   },
   "outputs": [
    {
     "name": "stdout",
     "output_type": "stream",
     "text": [
      "              precision    recall  f1-score   support\n",
      "\n",
      "           A       0.89      1.00      0.94        16\n",
      "           I       0.00      0.00      0.00         1\n",
      "           S       0.00      0.00      0.00         1\n",
      "\n",
      "    accuracy                           0.89        18\n",
      "   macro avg       0.30      0.33      0.31        18\n",
      "weighted avg       0.79      0.89      0.84        18\n",
      "\n"
     ]
    }
   ],
   "source": [
    "print(classification_report(y_test, y_pred_model_neural_network, zero_division=0))"
   ]
  },
  {
   "cell_type": "markdown",
   "metadata": {},
   "source": [
    "### 6/ Vấn đề Overfiting\n",
    "### Overfitting with Decision Tree"
   ]
  },
  {
   "cell_type": "code",
   "execution_count": 32,
   "metadata": {},
   "outputs": [],
   "source": [
    "from sklearn.metrics import accuracy_score"
   ]
  },
  {
   "cell_type": "code",
   "execution_count": 33,
   "metadata": {},
   "outputs": [
    {
     "name": "stdout",
     "output_type": "stream",
     "text": [
      "--- 1, train: 0.696, test: 0.833\n",
      "--- 2, train: 0.696, test: 0.833\n",
      "--- 3, train: 0.725, test: 0.833\n",
      "--- 4, train: 0.768, test: 0.833\n",
      "--- 5, train: 0.797, test: 0.556\n",
      "--- 6, train: 0.826, test: 0.556\n",
      "--- 7, train: 0.855, test: 0.556\n",
      "--- 8, train: 0.899, test: 0.556\n",
      "--- 9, train: 0.928, test: 0.500\n",
      "--- 10, train: 0.913, test: 0.556\n",
      "--- 11, train: 0.942, test: 0.500\n",
      "--- 12, train: 0.942, test: 0.500\n",
      "--- 13, train: 0.942, test: 0.500\n",
      "--- 14, train: 0.942, test: 0.500\n",
      "--- 15, train: 0.942, test: 0.500\n",
      "--- 16, train: 0.942, test: 0.500\n",
      "--- 17, train: 0.942, test: 0.500\n",
      "--- 18, train: 0.942, test: 0.500\n",
      "--- 19, train: 0.942, test: 0.500\n",
      "--- 20, train: 0.942, test: 0.500\n"
     ]
    },
    {
     "data": {
      "image/png": "[encoded data removed]",
      "text/plain": [
       "<Figure size 864x432 with 1 Axes>"
      ]
     },
     "metadata": {},
     "output_type": "display_data"
    }
   ],
   "source": [
    "# define lists to collect scores\n",
    "train_scores, test_scores = list(), list()\n",
    "\n",
    "# define the tree depths to evaluate\n",
    "values = [i for i in range(1, 21)]\n",
    "\n",
    "# evaluate a decision tree for each depth\n",
    "for i in values:\n",
    "    \n",
    "    # configure the model\n",
    "    decision_tree_model = DecisionTreeClassifier(max_depth=i)\n",
    "\n",
    "    # fit model on the training dataset\n",
    "    decision_tree_model.fit(X_train, y_train)\n",
    "    \n",
    "    # evaluate on the train dataset\n",
    "    train_yhat = decision_tree_model.predict(X_train)\n",
    "    train_acc = accuracy_score(y_train, train_yhat)\n",
    "    train_scores.append(train_acc)\n",
    "\n",
    "    # evaluate on the test dataset\n",
    "    test_yhat = decision_tree_model.predict(X_test)\n",
    "    test_acc = accuracy_score(y_test, test_yhat)\n",
    "    test_scores.append(test_acc)\n",
    "\n",
    "    # summarize progress\n",
    "    print('--- %d, train: %.3f, test: %.3f' % (i, train_acc, test_acc))\n",
    "    \n",
    "# plot of train and test scores vs number of neighbors\n",
    "plt.style.use(\"ggplot\")\n",
    "plt.suptitle(\"Overfitting with Decision Tree\", fontsize=24)\n",
    "plt.plot(values, train_scores, 'r-o', label='Train')\n",
    "plt.plot(values, test_scores, 'g-o', label='Test')\n",
    "plt.legend()\n",
    "plt.show()"
   ]
  },
  {
   "cell_type": "markdown",
   "metadata": {},
   "source": [
    "### Overfitting with kNN"
   ]
  },
  {
   "cell_type": "code",
   "execution_count": 34,
   "metadata": {
    "scrolled": false
   },
   "outputs": [
    {
     "name": "stdout",
     "output_type": "stream",
     "text": [
      "--- 1, train: 0.942, test: 0.556\n",
      "--- 2, train: 0.696, test: 0.833\n",
      "--- 3, train: 0.739, test: 0.667\n",
      "--- 4, train: 0.696, test: 0.889\n",
      "--- 5, train: 0.725, test: 0.833\n",
      "--- 6, train: 0.652, test: 0.889\n",
      "--- 7, train: 0.652, test: 0.833\n",
      "--- 8, train: 0.652, test: 0.889\n",
      "--- 9, train: 0.638, test: 0.722\n",
      "--- 10, train: 0.667, test: 0.889\n",
      "--- 11, train: 0.652, test: 0.833\n",
      "--- 12, train: 0.667, test: 0.889\n",
      "--- 13, train: 0.667, test: 0.889\n",
      "--- 14, train: 0.681, test: 0.889\n",
      "--- 15, train: 0.623, test: 0.833\n",
      "--- 16, train: 0.681, test: 0.889\n",
      "--- 17, train: 0.638, test: 0.833\n",
      "--- 18, train: 0.667, test: 0.889\n",
      "--- 19, train: 0.652, test: 0.889\n",
      "--- 20, train: 0.667, test: 0.889\n",
      "--- 21, train: 0.667, test: 0.889\n",
      "--- 22, train: 0.667, test: 0.889\n",
      "--- 23, train: 0.681, test: 0.889\n",
      "--- 24, train: 0.667, test: 0.889\n",
      "--- 25, train: 0.667, test: 0.889\n",
      "--- 26, train: 0.667, test: 0.889\n",
      "--- 27, train: 0.667, test: 0.889\n",
      "--- 28, train: 0.667, test: 0.889\n",
      "--- 29, train: 0.667, test: 0.889\n",
      "--- 30, train: 0.667, test: 0.889\n"
     ]
    },
    {
     "data": {
      "image/png": "[encoded data removed]",
      "text/plain": [
       "<Figure size 864x432 with 1 Axes>"
      ]
     },
     "metadata": {},
     "output_type": "display_data"
    }
   ],
   "source": [
    "# define lists to collect scores\n",
    "train_scores, test_scores = list(), list()\n",
    "\n",
    "# define the tree depths to evaluate\n",
    "values = [i for i in range(1, 31)]\n",
    "\n",
    "# evaluate a decision tree for each depth\n",
    "for i in values:\n",
    "    \n",
    "    # configure the model\n",
    "    kNN_model = KNeighborsClassifier(n_neighbors=i)\n",
    "\n",
    "    # fit model on the training dataset\n",
    "    kNN_model.fit(X_train, y_train)\n",
    "    \n",
    "    # evaluate on the train dataset\n",
    "    train_yhat = kNN_model.predict(X_train)\n",
    "    train_acc = accuracy_score(y_train, train_yhat)\n",
    "    train_scores.append(train_acc)\n",
    "\n",
    "    # evaluate on the test dataset\n",
    "    test_yhat = kNN_model.predict(X_test)\n",
    "    test_acc = accuracy_score(y_test, test_yhat)\n",
    "    test_scores.append(test_acc)\n",
    "\n",
    "    # summarize progress\n",
    "    print('--- %d, train: %.3f, test: %.3f' % (i, train_acc, test_acc))\n",
    "    \n",
    "# plot of train and test scores vs number of neighbors\n",
    "plt.style.use(\"ggplot\")\n",
    "plt.suptitle(\"Overfitting with kNN\", fontsize=24)\n",
    "plt.plot(values, train_scores, 'r-o', label='Train')\n",
    "plt.plot(values, test_scores, 'g-o', label='Test')\n",
    "plt.legend()\n",
    "plt.show()"
   ]
  },
  {
   "cell_type": "code",
   "execution_count": null,
   "metadata": {
    "scrolled": true
   },
   "outputs": [],
   "source": []
  }
 ],
 "metadata": {
  "kernelspec": {
   "display_name": "Python 3",
   "language": "python",
   "name": "python3"
  },
  "language_info": {
   "codemirror_mode": {
    "name": "ipython",
    "version": 3
   },
   "file_extension": ".py",
   "mimetype": "text/x-python",
   "name": "python",
   "nbconvert_exporter": "python",
   "pygments_lexer": "ipython3",
   "version": "3.8.5"
  }
 },
 "nbformat": 4,
 "nbformat_minor": 4
}
